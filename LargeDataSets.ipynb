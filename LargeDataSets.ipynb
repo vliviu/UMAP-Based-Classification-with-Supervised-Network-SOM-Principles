{
 "cells": [
  {
   "cell_type": "code",
   "execution_count": 2,
   "id": "3de2fd59",
   "metadata": {},
   "outputs": [],
   "source": [
    "import torch\n",
    "import torch.nn as nn\n",
    "import torch.optim as optim\n",
    "import numpy as np\n",
    "import matplotlib.pyplot as plt\n",
    "from sklearn.datasets import make_classification\n",
    "from sklearn.model_selection import train_test_split\n",
    "from sklearn.preprocessing import StandardScaler\n",
    "from sklearn.decomposition import PCA\n"
   ]
  },
  {
   "cell_type": "code",
   "execution_count": 3,
   "id": "8639160a",
   "metadata": {},
   "outputs": [],
   "source": [
    "from xgboost import XGBClassifier\n",
    "from sklearn.metrics import accuracy_score\n"
   ]
  },
  {
   "cell_type": "code",
   "execution_count": 4,
   "id": "496cb8fe",
   "metadata": {},
   "outputs": [],
   "source": [
    "# ---- Step 1: Generate and Normalize Data ----\n",
    "X, y = make_classification(n_samples=1000, n_features=20, n_informative=15, \n",
    "                           n_clusters_per_class=2, random_state=42)\n",
    "\n"
   ]
  },
  {
   "cell_type": "code",
   "execution_count": 5,
   "id": "5222e9dd",
   "metadata": {},
   "outputs": [],
   "source": [
    "# Split dataset\n",
    "X_train, X_test, y_train, y_test = train_test_split(X, y, test_size=0.2, random_state=42)\n"
   ]
  },
  {
   "cell_type": "code",
   "execution_count": 6,
   "id": "c5e44dd4",
   "metadata": {},
   "outputs": [],
   "source": [
    "# Standardize data for better distance calculations\n",
    "scaler = StandardScaler()\n",
    "X_train = scaler.fit_transform(X_train)\n",
    "X_test = scaler.transform(X_test)\n",
    "\n"
   ]
  },
  {
   "cell_type": "code",
   "execution_count": 7,
   "id": "20d698e5",
   "metadata": {},
   "outputs": [],
   "source": [
    "# Reduce noise before UMAP\n",
    "pca = PCA(n_components=15)  # Reduce feature noise\n",
    "X_train = pca.fit_transform(X_train)\n",
    "X_test = pca.transform(X_test)\n",
    "\n"
   ]
  },
  {
   "cell_type": "code",
   "execution_count": 8,
   "id": "a6862332",
   "metadata": {},
   "outputs": [],
   "source": [
    "# Convert to Torch tensors\n",
    "X_train = torch.tensor(X_train, dtype=torch.float32)\n",
    "X_test = torch.tensor(X_test, dtype=torch.float32)\n",
    "\n"
   ]
  },
  {
   "cell_type": "code",
   "execution_count": 9,
   "id": "dd27a746",
   "metadata": {},
   "outputs": [],
   "source": [
    "# ---- Step 2: Define Improved UMAP-like Embedding Model ----\n",
    "class UMAPNet(nn.Module):\n",
    "    def __init__(self, input_dim, n_components=10):\n",
    "        super().__init__()\n",
    "        self.fc = nn.Sequential(\n",
    "            nn.Linear(input_dim, 128),\n",
    "            nn.ReLU(),\n",
    "            nn.Linear(128, 64),\n",
    "            nn.ReLU(),\n",
    "            nn.Linear(64, n_components)\n",
    "        )\n",
    "    \n",
    "    def forward(self, X):\n",
    "        return self.fc(X)\n"
   ]
  },
  {
   "cell_type": "code",
   "execution_count": 10,
   "id": "3f07cad6",
   "metadata": {},
   "outputs": [],
   "source": [
    "\n",
    "# ---- Step 3: Train UMAP Embedding Model with Triplet Loss ----\n",
    "class TripletLoss(nn.Module):\n",
    "    def __init__(self, margin=1.0):\n",
    "        super().__init__()\n",
    "        self.margin = margin\n",
    "        self.loss_fn = nn.TripletMarginLoss(margin=margin)\n",
    "\n",
    "    def forward(self, anchor, positive, negative):\n",
    "        return self.loss_fn(anchor, positive, negative)\n",
    "\n"
   ]
  },
  {
   "cell_type": "code",
   "execution_count": 11,
   "id": "9a730a4c",
   "metadata": {},
   "outputs": [],
   "source": [
    "def train_umap_model(model, X_train, n_neighbors=30, epochs=500, lr=0.01):\n",
    "    optimizer = optim.Adam(model.parameters(), lr=lr)\n",
    "    criterion = TripletLoss(margin=0.5)  # Triplet loss for better separation\n",
    "\n",
    "    for epoch in range(epochs):\n",
    "        optimizer.zero_grad()\n",
    "        embeddings = model(X_train)\n",
    "\n",
    "        # Compute pairwise distances\n",
    "        D = torch.cdist(embeddings, embeddings, p=2)\n",
    "        knn_indices = torch.argsort(D, dim=1)[:, 1:n_neighbors+1]\n",
    "\n",
    "        # Select triplets\n",
    "        anchor = embeddings\n",
    "        positive = embeddings[knn_indices[:, 0]]  # First neighbor\n",
    "        negative = embeddings[knn_indices[:, -1]]  # Farthest neighbor\n",
    "\n",
    "        loss = criterion(anchor, positive, negative)\n",
    "        loss.backward()\n",
    "        optimizer.step()\n",
    "\n",
    "        if epoch % 50 == 0:\n",
    "            print(f\"Epoch {epoch}/{epochs}, Loss: {loss.item():.4f}\")\n",
    "\n",
    "    return model\n",
    "\n"
   ]
  },
  {
   "cell_type": "code",
   "execution_count": 12,
   "id": "9dfa3671",
   "metadata": {},
   "outputs": [
    {
     "name": "stdout",
     "output_type": "stream",
     "text": [
      "Epoch 0/500, Loss: 0.4178\n",
      "Epoch 50/500, Loss: 0.0000\n",
      "Epoch 100/500, Loss: 0.0000\n",
      "Epoch 150/500, Loss: 0.0000\n",
      "Epoch 200/500, Loss: 0.0000\n",
      "Epoch 250/500, Loss: 0.0000\n",
      "Epoch 300/500, Loss: 0.0000\n",
      "Epoch 350/500, Loss: 0.0000\n",
      "Epoch 400/500, Loss: 0.0000\n",
      "Epoch 450/500, Loss: 0.0000\n"
     ]
    }
   ],
   "source": [
    "umap_model = UMAPNet(input_dim=X_train.shape[1], n_components=10)\n",
    "umap_model = train_umap_model(umap_model, X_train)\n",
    "\n"
   ]
  },
  {
   "cell_type": "code",
   "execution_count": null,
   "id": "0f0838d9",
   "metadata": {},
   "outputs": [],
   "source": [
    "# Transform data\n",
    "X_train_umap = umap_model(X_train).detach().numpy()\n",
    "X_test_umap = umap_model(X_test).detach().numpy()\n",
    "\n",
    "# ---- Step 4: Train an XGBoost Classifier ----\n",
    "clf = XGBClassifier(n_estimators=200, learning_rate=0.1, random_state=42)\n",
    "clf.fit(X_train_umap, y_train)\n",
    "y_pred = clf.predict(X_test_umap)\n",
    "\n",
    "# ---- Step 5: Evaluate Performance ----\n",
    "accuracy = accuracy_score(y_test, y_pred)\n",
    "print(f'🔹 Classification Accuracy: {accuracy:.4f}')\n",
    "\n",
    "# ---- Step 6: Visualization ----\n",
    "plt.scatter(X_train_umap[:, 0], X_train_umap[:, 1], c=y_train, cmap='coolwarm', alpha=0.5, label='Train')\n",
    "plt.scatter(X_test_umap[:, 0], X_test_umap[:, 1], c=y_test, cmap='coolwarm', marker='x', label='Test')\n",
    "plt.legend()\n",
    "plt.title(\"UMAP Projection of Data (Torch)\")\n",
    "plt.show()\n"
   ]
  }
 ],
 "metadata": {
  "kernelspec": {
   "display_name": "torch-env",
   "language": "python",
   "name": "torch-env"
  },
  "language_info": {
   "codemirror_mode": {
    "name": "ipython",
    "version": 3
   },
   "file_extension": ".py",
   "mimetype": "text/x-python",
   "name": "python",
   "nbconvert_exporter": "python",
   "pygments_lexer": "ipython3",
   "version": "3.10.9"
  }
 },
 "nbformat": 4,
 "nbformat_minor": 5
}
